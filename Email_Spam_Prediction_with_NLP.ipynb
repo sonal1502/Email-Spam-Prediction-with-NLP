{
  "nbformat": 4,
  "nbformat_minor": 0,
  "metadata": {
    "colab": {
      "provenance": [],
      "toc_visible": true
    },
    "kernelspec": {
      "name": "python3",
      "display_name": "Python 3"
    },
    "language_info": {
      "name": "python"
    }
  },
  "cells": [
    {
      "cell_type": "code",
      "execution_count": 1,
      "metadata": {
        "id": "Th8AakQTIclc"
      },
      "outputs": [],
      "source": [
        "# Importing the libraries\n",
        "import pandas as pd\n",
        "import numpy as np\n",
        "import re\n",
        "from sklearn.feature_extraction.text import CountVectorizer\n",
        "from sklearn.model_selection import train_test_split\n",
        "from sklearn.linear_model import LogisticRegression\n",
        "from sklearn.metrics import accuracy_score, confusion_matrix\n",
        "from nltk.corpus import stopwords\n",
        "from nltk.stem import PorterStemmer\n"
      ]
    },
    {
      "cell_type": "code",
      "source": [
        "# Loading the dataset\n",
        "df = pd.read_csv('/content/spam.csv', header=None, names=['label', 'text'], sep='\\t', encoding='latin-1')"
      ],
      "metadata": {
        "id": "qJoz1V9NJO1I"
      },
      "execution_count": 2,
      "outputs": []
    },
    {
      "cell_type": "code",
      "source": [
        "# Exploring the data\n",
        "print(df.head())\n",
        "print(df.info())\n",
        "print(df.describe())"
      ],
      "metadata": {
        "colab": {
          "base_uri": "https://localhost:8080/"
        },
        "id": "0XrYybjzJUwJ",
        "outputId": "5981f2d9-eac1-44f9-ed0f-9f899f0f3e6a"
      },
      "execution_count": 3,
      "outputs": [
        {
          "output_type": "stream",
          "name": "stdout",
          "text": [
            "  label                                               text\n",
            "0   ham  Go until jurong point, crazy.. Available only ...\n",
            "1   ham                      Ok lar... Joking wif u oni...\n",
            "2  spam  Free entry in 2 a wkly comp to win FA Cup fina...\n",
            "3   ham  U dun say so early hor... U c already then say...\n",
            "4   ham  Nah I don't think he goes to usf, he lives aro...\n",
            "<class 'pandas.core.frame.DataFrame'>\n",
            "RangeIndex: 5572 entries, 0 to 5571\n",
            "Data columns (total 2 columns):\n",
            " #   Column  Non-Null Count  Dtype \n",
            "---  ------  --------------  ----- \n",
            " 0   label   5572 non-null   object\n",
            " 1   text    5572 non-null   object\n",
            "dtypes: object(2)\n",
            "memory usage: 87.2+ KB\n",
            "None\n",
            "       label                    text\n",
            "count   5572                    5572\n",
            "unique     2                    5169\n",
            "top      ham  Sorry, I'll call later\n",
            "freq    4825                      30\n"
          ]
        }
      ]
    },
    {
      "cell_type": "code",
      "source": [
        "import nltk\n",
        "nltk.download('stopwords')\n",
        "\n"
      ],
      "metadata": {
        "colab": {
          "base_uri": "https://localhost:8080/"
        },
        "id": "k3HxYUuaJbxb",
        "outputId": "fad23a9b-63d0-4046-f1a6-4720e3da001f"
      },
      "execution_count": 4,
      "outputs": [
        {
          "output_type": "stream",
          "name": "stderr",
          "text": [
            "[nltk_data] Downloading package stopwords to /root/nltk_data...\n",
            "[nltk_data]   Unzipping corpora/stopwords.zip.\n"
          ]
        },
        {
          "output_type": "execute_result",
          "data": {
            "text/plain": [
              "True"
            ]
          },
          "metadata": {},
          "execution_count": 4
        }
      ]
    },
    {
      "cell_type": "code",
      "source": [
        "from nltk.corpus import stopwords\n",
        "stop_words = set(stopwords.words('english'))\n",
        "\n",
        "\n",
        "# Pre-processing the data\n",
        "ps = PorterStemmer()\n",
        "stop_words = set(stopwords.words('english'))\n",
        "\n",
        "def clean_text(text):\n",
        "    text = re.sub('[^a-zA-Z]', ' ', text)\n",
        "    text = text.lower()\n",
        "    text = text.split()\n",
        "    text = [ps.stem(word) for word in text if not word in stop_words] # use stop_words instead of stopwords\n",
        "    text = ' '.join(text)\n",
        "    return text\n",
        "\n",
        "# apply the clean_text function to the 'text' column\n",
        "df['text'] = df['text'].apply(clean_text)"
      ],
      "metadata": {
        "id": "SvOPNFAnJxFA"
      },
      "execution_count": 5,
      "outputs": []
    },
    {
      "cell_type": "code",
      "source": [
        "# Extracting features from the text\n",
        "cv = CountVectorizer()\n",
        "X = cv.fit_transform(df['text']).toarray()\n",
        "y = df['label'].values\n"
      ],
      "metadata": {
        "id": "jzzlc0UIVU9a"
      },
      "execution_count": 6,
      "outputs": []
    },
    {
      "cell_type": "code",
      "source": [
        "X_train, X_test, y_train, y_test = train_test_split(X, y, test_size=0.2, random_state=42)"
      ],
      "metadata": {
        "id": "_-UmGNMiVVlE"
      },
      "execution_count": 8,
      "outputs": []
    },
    {
      "cell_type": "code",
      "source": [
        "# Training and evaluating the logistic regression model\n",
        "lr = LogisticRegression()\n",
        "lr.fit(X_train, y_train)\n",
        "\n",
        "y_pred = lr.predict(X_test)\n",
        "\n",
        "acc_score = accuracy_score(y_test, y_pred)\n",
        "conf_matrix = confusion_matrix(y_test, y_pred)\n",
        "\n",
        "print(f\"Accuracy of Logistic Regression: {acc_score *100:.2f} %\")\n",
        "print(\"Confusion Matrix:\\n\", conf_matrix)"
      ],
      "metadata": {
        "colab": {
          "base_uri": "https://localhost:8080/"
        },
        "id": "Co8gHpfNVon8",
        "outputId": "845b7149-c031-4049-b5d1-0fb25e12fb07"
      },
      "execution_count": 15,
      "outputs": [
        {
          "output_type": "stream",
          "name": "stdout",
          "text": [
            "Accuracy of Logistic Regression: 98.39 %\n",
            "Confusion Matrix:\n",
            " [[965   1]\n",
            " [ 17 132]]\n"
          ]
        }
      ]
    },
    {
      "cell_type": "code",
      "source": [
        "def predict_email(email):\n",
        "    cleaned_email = clean_text(email)\n",
        "    features = cv.transform([cleaned_email]).toarray()\n",
        "    prediction = lr.predict(features)[0]\n",
        "    if prediction == 0:\n",
        "        print(\"Not Spam\")\n",
        "    else:\n",
        "        print(\"Spam\")\n",
        "\n",
        "predict_email(\"Congratulations! You have been selected to win a prize!\")"
      ],
      "metadata": {
        "colab": {
          "base_uri": "https://localhost:8080/"
        },
        "id": "4Kke1gHPVo_7",
        "outputId": "63fd9c94-415d-41d5-a003-96e68af62e9b"
      },
      "execution_count": 12,
      "outputs": [
        {
          "output_type": "stream",
          "name": "stdout",
          "text": [
            "Spam\n"
          ]
        }
      ]
    },
    {
      "cell_type": "markdown",
      "source": [
        "Checking the accuracy of models such as Support Vector Machine and K Nearest Neighbours."
      ],
      "metadata": {
        "id": "c3bi1_UBMBTP"
      }
    },
    {
      "cell_type": "code",
      "source": [
        "from sklearn.svm import SVC\n",
        "from sklearn.svm import LinearSVC\n",
        "from sklearn.metrics import accuracy_score\n",
        "import math\n",
        "\n",
        "\n",
        "\n",
        "model = SVC(kernel='poly')\n",
        "model.fit(X_train, y_train)\n",
        "predicted = model.predict(X_test)\n",
        "acc = accuracy_score(y_test, predicted)\n",
        "print(f\"Accuracy of Support Vector Machine: {acc* 100:.2f} %\")"
      ],
      "metadata": {
        "id": "UTGJnjEuVvka",
        "colab": {
          "base_uri": "https://localhost:8080/"
        },
        "outputId": "2d8d468b-44b7-4d18-edb0-dcb3137c1823"
      },
      "execution_count": 13,
      "outputs": [
        {
          "output_type": "stream",
          "name": "stdout",
          "text": [
            "Accuracy of Support Vector Machine: 94.89 %\n"
          ]
        }
      ]
    },
    {
      "cell_type": "code",
      "source": [
        "from sklearn.neighbors import KNeighborsClassifier\n",
        "model_KNN = KNeighborsClassifier()\n",
        "model_KNN.fit(X_train, y_train)\n",
        "\n",
        "# Predict the target values for test set\n",
        "y_pred_KNN = model_KNN.predict(X_test)\n",
        "\n",
        "# Evaluate the KNN model\n",
        "accuracy_KNN = accuracy_score(y_test, y_pred_KNN)\n",
        "\n",
        "# Store the results of KNN model in the dictionary\n",
        "print( f\"Accuracy of KNN model:  {accuracy_KNN*100:.2f} %\")"
      ],
      "metadata": {
        "colab": {
          "base_uri": "https://localhost:8080/"
        },
        "id": "X7aSjpCXK9RI",
        "outputId": "f391b835-2973-4894-c111-1a68b3158873"
      },
      "execution_count": 14,
      "outputs": [
        {
          "output_type": "stream",
          "name": "stdout",
          "text": [
            "Accuracy of KNN model:  92.65 %\n"
          ]
        }
      ]
    },
    {
      "cell_type": "code",
      "source": [],
      "metadata": {
        "id": "Sr_ABx26LpZO"
      },
      "execution_count": null,
      "outputs": []
    },
    {
      "cell_type": "markdown",
      "source": [
        "Therefore we can see that Logistic Regression has the highest Accuracy rate."
      ],
      "metadata": {
        "id": "vqJPaMKEMkBm"
      }
    },
    {
      "cell_type": "code",
      "source": [],
      "metadata": {
        "id": "wDRBewMoMqE8"
      },
      "execution_count": null,
      "outputs": []
    }
  ]
}